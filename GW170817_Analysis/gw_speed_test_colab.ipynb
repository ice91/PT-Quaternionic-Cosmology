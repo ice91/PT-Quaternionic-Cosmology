{
 "cells": [
  {
   "cell_type": "code",
   "execution_count": null,
   "metadata": {
    "vscode": {
     "languageId": "plaintext"
    }
   },
   "outputs": [],
   "source": [
    "import numpy as np\n",
    "import matplotlib.pyplot as plt\n",
    "\n",
    "# ------------------------------------------------------------------------------\n",
    "# 1. Define Observational Data for GW170817 and GRB170817A\n",
    "# ------------------------------------------------------------------------------\n",
    "# GW170817 (binary neutron star merger) was observed by LIGO/Virgo.\n",
    "# GRB 170817A (associated gamma-ray burst) was detected approximately 1.7 seconds later.\n",
    "# The estimated distance to the event is about 40 Mpc.\n",
    "\n",
    "t_GW = 0.0         # Arrival time of GW170817 (set as reference time, in seconds)\n",
    "t_GRB = 1.7        # Arrival time of GRB 170817A (in seconds)\n",
    "delta_t = t_GRB - t_GW  # Time delay between gamma-ray burst and GW (in seconds)\n",
    "\n",
    "distance_Mpc = 40.0           # Distance in Megaparsecs (Mpc)\n",
    "Mpc_to_km = 3.086e19          # 1 Mpc in kilometers\n",
    "distance_km = distance_Mpc * Mpc_to_km\n",
    "\n",
    "# Speed of light (in km/s)\n",
    "c = 3.0e5  # km/s\n",
    "\n",
    "# ------------------------------------------------------------------------------\n",
    "# 2. Compute the Relative Deviation in Gravitational Wave Speed\n",
    "# ------------------------------------------------------------------------------\n",
    "# In our model, the additional imaginary contributions can lead to a slight deviation\n",
    "# in the speed of gravitational waves. The deviation is given by:\n",
    "#\n",
    "#     δc_g = (Δt * c) / d\n",
    "#\n",
    "# where Δt is the observed time delay and d is the distance to the source.\n",
    "#\n",
    "# The relative deviation is then:\n",
    "#\n",
    "#     δc_g / c = (Δt / (d/c))\n",
    "#\n",
    "# Here, (d/c) is the light travel time to the source.\n",
    "\n",
    "# Calculate light travel time in seconds:\n",
    "light_travel_time = distance_km / c  # seconds\n",
    "\n",
    "# Compute the absolute deviation in speed (km/s)\n",
    "delta_c_g = (delta_t * c) / distance_km\n",
    "\n",
    "# Compute the relative deviation (dimensionless)\n",
    "relative_deviation = delta_t / light_travel_time\n",
    "\n",
    "print(\"Calculated relative deviation in gravitational wave speed (δc_g / c):\")\n",
    "print(f\"{relative_deviation:.2e}\")\n",
    "\n",
    "# ------------------------------------------------------------------------------\n",
    "# 3. Visualize the Result\n",
    "# ------------------------------------------------------------------------------\n",
    "plt.figure(figsize=(6,4))\n",
    "plt.bar([\"δc_g / c\"], [relative_deviation], color=\"blue\")\n",
    "# Draw a horizontal dashed line at 1e-14 (the theoretical prediction)\n",
    "plt.axhline(y=1e-14, color='red', linestyle='--', label=\"Predicted ~1e-14\")\n",
    "plt.yscale(\"log\")\n",
    "plt.ylabel(\"Relative Deviation (δc_g / c)\")\n",
    "plt.title(\"Test of Gravitational Wave Speed Deviation (GW170817 vs. GRB170817A)\")\n",
    "plt.legend()\n",
    "plt.show()\n"
   ]
  }
 ],
 "metadata": {
  "language_info": {
   "name": "python"
  }
 },
 "nbformat": 4,
 "nbformat_minor": 2
}
